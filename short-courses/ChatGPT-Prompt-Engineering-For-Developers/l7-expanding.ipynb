{
 "cells": [
  {
   "cell_type": "markdown",
   "id": "8de529e8-3891-4f47-8585-65b92b80bbf7",
   "metadata": {},
   "source": [
    "# Expanding\n",
    "In this lesson, you will generate customer service emails that are tailored to each customer's review.\n",
    "\n",
    "## Setup"
   ]
  },
  {
   "cell_type": "code",
   "execution_count": 14,
   "id": "e23399a9",
   "metadata": {
    "height": 132
   },
   "outputs": [],
   "source": [
    "import openai\n",
    "import os\n",
    "\n",
    "from dotenv import load_dotenv, find_dotenv\n",
    "_ = load_dotenv(find_dotenv()) # read local .env file\n",
    "\n",
    "openai.api_key  = os.getenv('OPENAI_API_KEY')"
   ]
  },
  {
   "cell_type": "code",
   "execution_count": 15,
   "id": "4c943900-98db-40b3-b639-7822ee2c5fd8",
   "metadata": {
    "height": 149
   },
   "outputs": [],
   "source": [
    "def get_completion(prompt, model=\"gpt-3.5-turbo\",temperature=0): # Andrew mentioned that the prompt/ completion paradigm is preferable for this class\n",
    "    messages = [{\"role\": \"user\", \"content\": prompt}]\n",
    "    response = openai.ChatCompletion.create(\n",
    "        model=model,\n",
    "        messages=messages,\n",
    "        temperature=temperature, # this is the degree of randomness of the model's output\n",
    "    )\n",
    "    return response.choices[0].message[\"content\"]"
   ]
  },
  {
   "cell_type": "markdown",
   "id": "f8ceea77-990a-4c64-bb49-3ba65eb155d2",
   "metadata": {},
   "source": [
    "## Customize the automated reply to a customer email"
   ]
  },
  {
   "cell_type": "code",
   "execution_count": 16,
   "id": "c30c4239",
   "metadata": {
    "height": 642
   },
   "outputs": [],
   "source": [
    "# given the sentiment from the lesson on \"inferring\",\n",
    "# and the original customer message, customize the email\n",
    "sentiment = \"negative\"\n",
    "\n",
    "# review for a blender\n",
    "review = f\"\"\"\n",
    "So, they still had the 17 piece system on seasonal \\\n",
    "sale for around $49 in the month of November, about \\\n",
    "half off, but for some reason (call it price gouging) \\\n",
    "around the second week of December the prices all went \\\n",
    "up to about anywhere from between $70-$89 for the same \\\n",
    "system. And the 11 piece system went up around $10 or \\\n",
    "so in price also from the earlier sale price of $29. \\\n",
    "So it looks okay, but if you look at the base, the part \\\n",
    "where the blade locks into place doesn’t look as good \\\n",
    "as in previous editions from a few years ago, but I \\\n",
    "plan to be very gentle with it (example, I crush \\\n",
    "very hard items like beans, ice, rice, etc. in the \\ \n",
    "blender first then pulverize them in the serving size \\\n",
    "I want in the blender then switch to the whipping \\\n",
    "blade for a finer flour, and use the cross cutting blade \\\n",
    "first when making smoothies, then use the flat blade \\\n",
    "if I need them finer/less pulpy). Special tip when making \\\n",
    "smoothies, finely cut and freeze the fruits and \\\n",
    "vegetables (if using spinach-lightly stew soften the \\ \n",
    "spinach then freeze until ready for use-and if making \\\n",
    "sorbet, use a small to medium sized food processor) \\ \n",
    "that you plan to use that way you can avoid adding so \\\n",
    "much ice if at all-when making your smoothie. \\\n",
    "After about a year, the motor was making a funny noise. \\\n",
    "I called customer service but the warranty expired \\\n",
    "already, so I had to buy another one. FYI: The overall \\\n",
    "quality has gone done in these types of products, so \\\n",
    "they are kind of counting on brand recognition and \\\n",
    "consumer loyalty to maintain sales. Got it in about \\\n",
    "two days.\n",
    "\"\"\""
   ]
  },
  {
   "cell_type": "code",
   "execution_count": 17,
   "id": "d5403f73",
   "metadata": {
    "height": 302
   },
   "outputs": [
    {
     "name": "stdout",
     "output_type": "stream",
     "text": [
      "Dear Valued Customer,\n",
      "\n",
      "Thank you for taking the time to share your review with us. We appreciate your feedback and apologize for any inconvenience you may have experienced.\n",
      "\n",
      "We are sorry to hear about the price increase you noticed in December. We strive to provide competitive pricing for our products, and we understand your frustration. If you have any further concerns regarding pricing or any other issues, we encourage you to reach out to our customer service team. They will be more than happy to assist you.\n",
      "\n",
      "We also appreciate your feedback regarding the base of the system. We continuously work to improve the quality of our products, and your comments will be taken into consideration for future enhancements.\n",
      "\n",
      "We apologize for any inconvenience caused by the motor issue you encountered. Our customer service team is always available to assist with any warranty-related concerns. We understand that the warranty had expired, but we would still like to address this matter further. Please contact our customer service team, and they will be able to provide you with further assistance.\n",
      "\n",
      "Thank you once again for your review. We value your feedback and appreciate your loyalty to our brand. If you have any further questions or concerns, please do not hesitate to contact us.\n",
      "\n",
      "Best regards,\n",
      "\n",
      "AI customer agent\n"
     ]
    }
   ],
   "source": [
    "prompt = f\"\"\"\n",
    "You are a customer service AI assistant.\n",
    "Your task is to send an email reply to a valued customer.\n",
    "Given the customer email delimited by ```, \\\n",
    "Generate a reply to thank the customer for their review.\n",
    "If the sentiment is positive or neutral, thank them for \\\n",
    "their review.\n",
    "If the sentiment is negative, apologize and suggest that \\\n",
    "they can reach out to customer service. \n",
    "Make sure to use specific details from the review.\n",
    "Write in a concise and professional tone.\n",
    "Sign the email as `AI customer agent`.\n",
    "Customer review: ```{review}```\n",
    "Review sentiment: {sentiment}\n",
    "\"\"\"\n",
    "response = get_completion(prompt)\n",
    "print(response)"
   ]
  },
  {
   "cell_type": "markdown",
   "id": "55605ee0-118c-4c46-a917-4981a43fcad3",
   "metadata": {},
   "source": [
    "## Remind the model to use details from the customer's email"
   ]
  },
  {
   "cell_type": "code",
   "execution_count": 18,
   "id": "1d5ea7c8",
   "metadata": {
    "height": 302
   },
   "outputs": [
    {
     "name": "stdout",
     "output_type": "stream",
     "text": [
      "Dear valued customer,\n",
      "\n",
      "Thank you for sharing your review with us. We appreciate your feedback and apologize for any inconvenience you may have experienced with our pricing and product quality.\n",
      "\n",
      "We understand your disappointment regarding the price increase in December. We strive to offer competitive prices throughout the year, and we apologize if the sudden change in pricing came as a surprise. We value your loyalty as a customer and would like to make it right. If you have any further concerns or questions, please feel free to reach out to our customer service team, who will be more than happy to assist you.\n",
      "\n",
      "Additionally, we apologize for any inconvenience caused by the decrease in quality of the base compared to previous editions. We constantly strive to improve our products and appreciate your feedback. Rest assured, we will take your comments into consideration for future enhancements.\n",
      "\n",
      "We apologize for the issue you encountered with the motor after a year of use. It is unfortunate that the warranty had expired at that point. We understand how frustrating this can be. If you have any further concerns or need assistance with your new purchase, please do not hesitate to contact our customer service team. They will be glad to assist you in any way they can.\n",
      "\n",
      "Thank you for your understanding and for bringing these matters to our attention. We appreciate your continued support and trust in our brand. If there is anything else we can assist you with, please feel free to let us know.\n",
      "\n",
      "Best regards,\n",
      "\n",
      "AI customer agent\n"
     ]
    }
   ],
   "source": [
    "prompt = f\"\"\"\n",
    "You are a customer service AI assistant.\n",
    "Your task is to send an email reply to a valued customer.\n",
    "Given the customer email delimited by ```, \\\n",
    "Generate a reply to thank the customer for their review.\n",
    "If the sentiment is positive or neutral, thank them for \\\n",
    "their review.\n",
    "If the sentiment is negative, apologize and suggest that \\\n",
    "they can reach out to customer service. \n",
    "Make sure to use specific details from the review.\n",
    "Write in a concise and professional tone.\n",
    "Sign the email as `AI customer agent`.\n",
    "Customer review: ```{review}```\n",
    "Review sentiment: {sentiment}\n",
    "\"\"\"\n",
    "response = get_completion(prompt, temperature=0.7)\n",
    "print(response)"
   ]
  },
  {
   "cell_type": "markdown",
   "id": "31e317ad-9e51-4e7a-90c3-d88e7bf8a98c",
   "metadata": {},
   "source": [
    "## Try experimenting on your own!"
   ]
  },
  {
   "cell_type": "code",
   "execution_count": 19,
   "id": "c18af7be",
   "metadata": {
    "height": 47
   },
   "outputs": [
    {
     "data": {
      "text/plain": [
       "array([0. , 0.1, 0.2, 0.3, 0.4, 0.5, 0.6, 0.7, 0.8, 0.9])"
      ]
     },
     "execution_count": 19,
     "metadata": {},
     "output_type": "execute_result"
    }
   ],
   "source": [
    "import numpy as np\n",
    "np.arange(0,1,0.1)"
   ]
  },
  {
   "cell_type": "code",
   "execution_count": null,
   "id": "ffa65c7e",
   "metadata": {
    "height": 353
   },
   "outputs": [
    {
     "name": "stdout",
     "output_type": "stream",
     "text": [
      "\n",
      "\n",
      "Temperature : 0.0\n",
      "\n",
      "Dear Valued Customer,\n",
      "\n",
      "Thank you for taking the time to share your review with us. We appreciate your feedback and apologize for any inconvenience you may have experienced.\n",
      "\n",
      "We are sorry to hear about the price increase you noticed in December. We strive to provide competitive prices for our valued customers, and we understand your frustration. If you have any further concerns regarding pricing, we encourage you to reach out to our customer service team who will be happy to assist you.\n",
      "\n",
      "We also appreciate your feedback regarding the base of the system. We continuously work to improve the quality of our products, and your comments will be taken into consideration for future enhancements.\n",
      "\n",
      "We apologize for any inconvenience caused by the motor issue you encountered. Our customer service team is available to assist you with any product-related concerns, even if the warranty has expired. Please feel free to contact them for further assistance.\n",
      "\n",
      "Thank you once again for your review. We value your loyalty and appreciate your support. If you have any further questions or need any assistance, please do not hesitate to reach out to us.\n",
      "\n",
      "Best regards,\n",
      "\n",
      "AI customer agent\n",
      "\n",
      "\n",
      "Temperature : 0.1\n",
      "\n",
      "Dear Valued Customer,\n",
      "\n",
      "Thank you for taking the time to share your review with us. We appreciate your feedback and apologize for any inconvenience you may have experienced.\n",
      "\n",
      "We are sorry to hear about the price increase you noticed in December. We strive to provide competitive prices and we understand your frustration. If you have any further concerns or questions regarding pricing, we encourage you to reach out to our customer service team who will be happy to assist you.\n",
      "\n",
      "We also appreciate your feedback regarding the base of the system. We continuously work to improve our products and your comments will be taken into consideration for future enhancements.\n",
      "\n",
      "Regarding the motor issue you encountered, we apologize for any inconvenience caused. Our customer service team is available to assist you with any technical difficulties you may encounter. We understand that your warranty has expired, but they may still be able to provide guidance or suggest alternative solutions.\n",
      "\n",
      "Thank you once again for your review. We value your loyalty and appreciate your support. If you have any further questions or concerns, please do not hesitate to contact our customer service team.\n",
      "\n",
      "Best regards,\n",
      "\n",
      "AI customer agent\n",
      "\n",
      "\n",
      "Temperature : 0.2\n",
      "\n",
      "Dear Valued Customer,\n",
      "\n",
      "Thank you for taking the time to share your review with us. We appreciate your feedback and apologize for any inconvenience you may have experienced.\n",
      "\n",
      "We are sorry to hear about the price increase you noticed in December. We strive to offer competitive prices and ensure consistency in our pricing. We understand your concern and apologize for any confusion caused.\n",
      "\n",
      "Regarding the quality of the base and the motor noise issue you encountered, we apologize for the inconvenience caused. We value your loyalty and would like to assist you further. Please feel free to reach out to our customer service team at your convenience, and they will be happy to assist you with any concerns or questions you may have.\n",
      "\n",
      "Thank you again for your review and for choosing our products. We appreciate your support and look forward to serving you better in the future.\n",
      "\n",
      "Best regards,\n",
      "\n",
      "AI customer agent\n",
      "\n",
      "\n",
      "Temperature : 0.30000000000000004\n",
      "\n",
      "Dear valued customer,\n",
      "\n",
      "Thank you for taking the time to share your review with us. We appreciate your feedback and apologize for any inconvenience you may have experienced.\n",
      "\n",
      "We are sorry to hear about the price increase you noticed in December. We strive to provide our customers with competitive pricing and we understand your frustration. If you have any further concerns or questions regarding pricing, we encourage you to reach out to our customer service team who will be happy to assist you.\n",
      "\n",
      "We also appreciate your feedback regarding the quality of our product. We constantly strive to improve our products and your feedback is valuable to us. We apologize for any inconvenience caused by the motor issue you experienced. If you encounter any issues with your new purchase, please do not hesitate to contact our customer service team for assistance.\n",
      "\n",
      "Thank you again for your review and for choosing our brand. We value your loyalty and are committed to providing you with the best possible products and service. If there is anything else we can assist you with, please feel free to reach out to us.\n",
      "\n",
      "Best regards,\n",
      "\n",
      "AI customer agent\n",
      "\n",
      "\n",
      "Temperature : 0.4\n",
      "\n",
      "Dear valued customer,\n",
      "\n",
      "Thank you for taking the time to share your review with us. We appreciate your feedback and apologize for any inconvenience you may have experienced.\n",
      "\n",
      "We are sorry to hear about the increase in prices for the 17 piece system in December. We understand how frustrating it can be when prices change unexpectedly. We strive to provide fair and competitive pricing for our customers, and we apologize if this was not reflected in your recent purchase.\n",
      "\n",
      "Regarding the issue with the base of the system, we apologize for any disappointment caused. We appreciate your gentle approach in handling the blender and your detailed explanation of how you use it for various purposes. Your feedback regarding the base will be shared with our product development team for further improvement.\n",
      "\n",
      "We are sorry to hear about the motor issue you encountered after a year of use. We understand how important it is to have a reliable product, and we apologize for any inconvenience caused. If you have any further concerns or questions, please do not hesitate to reach out to our customer service team. They will be more than happy to assist you.\n",
      "\n",
      "Thank you again for your review and for choosing our products. We value your loyalty and feedback, as it helps us to continually improve our products and services. If there is anything else we can assist you with, please let us know.\n",
      "\n",
      "Best regards,\n",
      "\n",
      "AI customer agent\n",
      "\n",
      "\n",
      "Temperature : 0.5\n",
      "\n",
      "Dear valued customer,\n",
      "\n",
      "Thank you for taking the time to share your feedback with us. We appreciate your honest review and apologize for any inconvenience you may have experienced.\n",
      "\n",
      "We are sorry to hear about the increase in prices for the 17 piece system and the change in quality compared to previous editions. We understand your concerns and assure you that we take customer feedback seriously. We strive to provide the best products and service to our customers.\n",
      "\n",
      "If you have any further issues or questions, we encourage you to reach out to our customer service team. They will be more than happy to assist you and find a suitable solution.\n",
      "\n",
      "Thank you again for your valuable feedback. We truly appreciate your support and loyalty.\n",
      "\n",
      "Best regards,\n",
      "\n",
      "AI customer agent\n",
      "\n",
      "\n",
      "Temperature : 0.6000000000000001\n",
      "\n",
      "Dear valued customer,\n",
      "\n",
      "Thank you for taking the time to share your review with us. We appreciate your feedback and apologize for any inconvenience you may have experienced.\n",
      "\n",
      "We are sorry to hear about the increase in prices for the 17 piece system and the change in the quality of the blade lock. We understand how frustrating this can be, especially after purchasing the product during the seasonal sale. We strive to provide consistent pricing and high-quality products to our customers, and we regret that we fell short in this instance.\n",
      "\n",
      "If you have any further concerns or questions, we encourage you to reach out to our customer service team. They will be more than happy to assist you and address any issues you may have encountered. Your satisfaction is our top priority, and we want to ensure that you have a positive experience with our products.\n",
      "\n",
      "Once again, we apologize for any inconvenience caused and appreciate your feedback. We value your loyalty and hope to have the opportunity to serve you better in the future.\n",
      "\n",
      "Best regards,\n",
      "\n",
      "AI customer agent\n",
      "\n",
      "\n",
      "Temperature : 0.7000000000000001\n",
      "\n",
      "Dear valued customer,\n",
      "\n",
      "Thank you for taking the time to provide us with your review. We appreciate your feedback and apologize for any inconvenience you may have experienced.\n",
      "\n",
      "We are sorry to hear about the increase in prices for the 17 piece system and the change in the quality of the base. We understand your disappointment and frustration with these changes. We strive to provide the best products and service to our customers, and we apologize if we have fallen short in this instance.\n",
      "\n",
      "If you have any further concerns or questions, we encourage you to reach out to our customer service team. They will be more than happy to assist you and address any issues you may have.\n",
      "\n",
      "Thank you once again for your valuable feedback. We truly appreciate your support and loyalty. \n",
      "\n",
      "Best regards,\n",
      "\n",
      "AI customer agent\n",
      "\n",
      "\n",
      "Temperature : 0.8\n",
      "\n"
     ]
    }
   ],
   "source": [
    "prompt = f\"\"\"\n",
    "You are a customer service AI assistant.\n",
    "Your task is to send an email reply to a valued customer.\n",
    "Given the customer email delimited by ```, \\\n",
    "Generate a reply to thank the customer for their review.\n",
    "If the sentiment is positive or neutral, thank them for \\\n",
    "their review.\n",
    "If the sentiment is negative, apologize and suggest that \\\n",
    "they can reach out to customer service. \n",
    "Make sure to use specific details from the review.\n",
    "Write in a concise and professional tone.\n",
    "Sign the email as `AI customer agent`.\n",
    "Customer review: ```{review}```\n",
    "Review sentiment: {sentiment}\n",
    "\"\"\"\n",
    "\n",
    "for i in np.arange(0,1,0.1):\n",
    "    print(f\"\\n\\nTemperature : {i}\\n\")\n",
    "    response = get_completion(prompt, temperature=i)\n",
    "    print(response)"
   ]
  }
 ],
 "metadata": {
  "kernelspec": {
   "display_name": "Python 3 (ipykernel)",
   "language": "python",
   "name": "python3"
  },
  "language_info": {
   "codemirror_mode": {
    "name": "ipython",
    "version": 3
   },
   "file_extension": ".py",
   "mimetype": "text/x-python",
   "name": "python",
   "nbconvert_exporter": "python",
   "pygments_lexer": "ipython3",
   "version": "3.9.16"
  }
 },
 "nbformat": 4,
 "nbformat_minor": 5
}
