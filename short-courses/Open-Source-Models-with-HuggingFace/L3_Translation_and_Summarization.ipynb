{
 "cells": [
  {
   "cell_type": "markdown",
   "id": "e6685771",
   "metadata": {},
   "source": [
    "# Lesson 3: Translation and Summarization"
   ]
  },
  {
   "cell_type": "markdown",
   "id": "4c7109da",
   "metadata": {},
   "source": [
    "- In the classroom, the libraries are already installed for you.\n",
    "- If you would like to run this code on your own machine, you can install the following:\n",
    "\n",
    "```\n",
    "    !pip install transformers \n",
    "    !pip install torch\n",
    "```"
   ]
  },
  {
   "cell_type": "markdown",
   "id": "97e3e7c9-1437-4784-8a21-cd200bc609a5",
   "metadata": {},
   "source": [
    "- Here is some code that suppresses warning messages."
   ]
  },
  {
   "cell_type": "code",
   "execution_count": 1,
   "id": "782af222-1bea-449a-8dd4-655ad7a7b8ea",
   "metadata": {
    "height": 47
   },
   "outputs": [],
   "source": [
    "from transformers.utils import logging\n",
    "logging.set_verbosity_error()"
   ]
  },
  {
   "cell_type": "markdown",
   "id": "bea43ec1",
   "metadata": {},
   "source": [
    "### Build the `translation` pipeline using 🤗 Transformers Library"
   ]
  },
  {
   "cell_type": "code",
   "execution_count": 2,
   "id": "d1d46ac9-d665-4690-99a4-43b625e02114",
   "metadata": {
    "height": 47
   },
   "outputs": [],
   "source": [
    "from transformers import pipeline \n",
    "import torch"
   ]
  },
  {
   "cell_type": "code",
   "execution_count": 3,
   "id": "014e1c26-df35-406c-8ac2-9789b011c86b",
   "metadata": {
    "height": 64
   },
   "outputs": [],
   "source": [
    "translator = pipeline(task=\"translation\",\n",
    "                      model=\"./models/facebook/nllb-200-distilled-600M\",\n",
    "                      torch_dtype=torch.bfloat16) "
   ]
  },
  {
   "cell_type": "markdown",
   "id": "69d8f7a5",
   "metadata": {},
   "source": [
    "NLLB: No Language Left Behind: ['nllb-200-distilled-600M'](https://huggingface.co/facebook/nllb-200-distilled-600M).\n",
    "\n"
   ]
  },
  {
   "cell_type": "code",
   "execution_count": 4,
   "id": "095bd1c5-a96f-4b20-8e9c-601b0b158fd8",
   "metadata": {
    "height": 115
   },
   "outputs": [],
   "source": [
    "text = \"\"\"\\\n",
    "My puppy is adorable, \\\n",
    "Your kitten is cute.\n",
    "Her panda is friendly.\n",
    "His llama is thoughtful. \\\n",
    "We all have nice pets!\"\"\""
   ]
  },
  {
   "cell_type": "code",
   "execution_count": 5,
   "id": "03d9ebdf-86d8-493b-8757-74b3d1010442",
   "metadata": {
    "height": 64
   },
   "outputs": [],
   "source": [
    "text_translated = translator(text,\n",
    "                             src_lang=\"eng_Latn\",\n",
    "                             tgt_lang=\"fra_Latn\")"
   ]
  },
  {
   "cell_type": "markdown",
   "id": "711052f5",
   "metadata": {},
   "source": [
    "To choose other languages, you can find the other language codes on the page: [Languages in FLORES-200](https://github.com/facebookresearch/flores/blob/main/flores200/README.md#languages-in-flores-200)\n",
    "\n",
    "For example:\n",
    "- Afrikaans: afr_Latn\n",
    "- Chinese: zho_Hans\n",
    "- Egyptian Arabic: arz_Arab\n",
    "- French: fra_Latn\n",
    "- German: deu_Latn\n",
    "- Greek: ell_Grek\n",
    "- Hindi: hin_Deva\n",
    "- Indonesian: ind_Latn\n",
    "- Italian: ita_Latn\n",
    "- Japanese: jpn_Jpan\n",
    "- Korean: kor_Hang\n",
    "- Persian: pes_Arab\n",
    "- Portuguese: por_Latn\n",
    "- Russian: rus_Cyrl\n",
    "- Spanish: spa_Latn\n",
    "- Swahili: swh_Latn\n",
    "- Thai: tha_Thai\n",
    "- Turkish: tur_Latn\n",
    "- Vietnamese: vie_Latn\n",
    "- Zulu: zul_Latn"
   ]
  },
  {
   "cell_type": "code",
   "execution_count": 6,
   "id": "f4ba07e3-4a5e-4bf2-86a9-498781828eca",
   "metadata": {
    "height": 30
   },
   "outputs": [
    {
     "data": {
      "text/plain": [
       "[{'translation_text': 'Mon chiot est adorable, ton chaton est mignon, son panda est ami, sa lamme est attentive, nous avons tous de beaux animaux de compagnie.'}]"
      ]
     },
     "execution_count": 6,
     "metadata": {},
     "output_type": "execute_result"
    }
   ],
   "source": [
    "text_translated"
   ]
  },
  {
   "cell_type": "code",
   "execution_count": 7,
   "id": "84796b97",
   "metadata": {
    "height": 217
   },
   "outputs": [
    {
     "data": {
      "text/plain": [
       "[{'translation_text': 'عندي بيت صغير ضيق، لونه وردي مشرق، داخله بسيطة ورائعة، أنا سعيد بالبقاء هنا!'}]"
      ]
     },
     "execution_count": 7,
     "metadata": {},
     "output_type": "execute_result"
    }
   ],
   "source": [
    "text = \"\"\"\\\n",
    "Saya punya rumah, \\\n",
    "Ukurannya kecil dan sempit.\n",
    "Warnanya pink cerah.\n",
    "Interiornya sederhana dan elegan. \\\n",
    "Saya senang tinggal di sini!\"\"\"\n",
    "\n",
    "text_translated = translator(text,\n",
    "                             src_lang=\"ind_Latn\",\n",
    "                             tgt_lang=\"arz_Arab\")\n",
    "\n",
    "text_translated"
   ]
  },
  {
   "cell_type": "markdown",
   "id": "c7517649",
   "metadata": {},
   "source": [
    "## Free up some memory before continuing\n",
    "- In order to have enough free memory to run the rest of the code, please run the following to free up memory on the machine."
   ]
  },
  {
   "cell_type": "code",
   "execution_count": 8,
   "id": "c16e5dad-dac0-42e4-9a87-8128a1d49b44",
   "metadata": {
    "height": 30
   },
   "outputs": [],
   "source": [
    "import gc"
   ]
  },
  {
   "cell_type": "code",
   "execution_count": 9,
   "id": "43cafb3a-51b8-4aae-929c-31d524dec530",
   "metadata": {
    "height": 30
   },
   "outputs": [],
   "source": [
    "del translator"
   ]
  },
  {
   "cell_type": "code",
   "execution_count": 10,
   "id": "61d698a7-8ae2-475e-ac46-d768c282b17c",
   "metadata": {
    "height": 30
   },
   "outputs": [
    {
     "data": {
      "text/plain": [
       "25"
      ]
     },
     "execution_count": 10,
     "metadata": {},
     "output_type": "execute_result"
    }
   ],
   "source": [
    "gc.collect()"
   ]
  },
  {
   "cell_type": "markdown",
   "id": "b2fac55f",
   "metadata": {},
   "source": [
    "### Build the `summarization` pipeline using 🤗 Transformers Library"
   ]
  },
  {
   "cell_type": "code",
   "execution_count": 11,
   "id": "b132c646-0c6a-4c57-939a-b3015ea4b76f",
   "metadata": {
    "height": 64
   },
   "outputs": [],
   "source": [
    "summarizer = pipeline(task=\"summarization\",\n",
    "                      model=\"./models/facebook/bart-large-cnn\",\n",
    "                      torch_dtype=torch.bfloat16)"
   ]
  },
  {
   "cell_type": "markdown",
   "id": "1ca6f847",
   "metadata": {},
   "source": [
    "Model info: ['bart-large-cnn'](https://huggingface.co/facebook/bart-large-cnn)"
   ]
  },
  {
   "cell_type": "code",
   "execution_count": 12,
   "id": "98276d66-4274-4a2f-b6a7-b4fb839b94f7",
   "metadata": {
    "height": 149
   },
   "outputs": [],
   "source": [
    "text = \"\"\"Paris is the capital and most populous city of France, with\n",
    "          an estimated population of 2,175,601 residents as of 2018,\n",
    "          in an area of more than 105 square kilometres (41 square\n",
    "          miles). The City of Paris is the centre and seat of\n",
    "          government of the region and province of Île-de-France, or\n",
    "          Paris Region, which has an estimated population of\n",
    "          12,174,880, or about 18 percent of the population of France\n",
    "          as of 2017.\"\"\""
   ]
  },
  {
   "cell_type": "code",
   "execution_count": 13,
   "id": "d856f193-cbf7-450b-8ae3-42287096e56f",
   "metadata": {
    "height": 64
   },
   "outputs": [],
   "source": [
    "summary = summarizer(text,\n",
    "                     min_length=10,\n",
    "                     max_length=100)"
   ]
  },
  {
   "cell_type": "code",
   "execution_count": 14,
   "id": "a2c79f81-6baf-4f6b-95ee-b1a2072ec073",
   "metadata": {
    "height": 30
   },
   "outputs": [
    {
     "data": {
      "text/plain": [
       "[{'summary_text': 'Paris is the capital and most populous city of France, with an estimated population of 2,175,601 residents as of 2018. The City of Paris is the centre and seat of the government of the region and province of Île-de-France.'}]"
      ]
     },
     "execution_count": 14,
     "metadata": {},
     "output_type": "execute_result"
    }
   ],
   "source": [
    "summary"
   ]
  },
  {
   "cell_type": "markdown",
   "id": "ca56abc0",
   "metadata": {},
   "source": [
    "### Try it yourself! \n",
    "- Try this model with your own texts!"
   ]
  },
  {
   "cell_type": "code",
   "execution_count": 15,
   "id": "fd8dddfb",
   "metadata": {
    "height": 812
   },
   "outputs": [],
   "source": [
    "text = \"\"\"From Wikipedia, the free encyclopedia\n",
    "\"UFC\" redirects here. For other uses, see UFC (disambiguation).\n",
    "UFC Holdings, LLC\n",
    "\n",
    "Trade name\tUFC\n",
    "Company type\tSubsidiary\n",
    "Industry\t\n",
    "Mixed martial artsStreaming media\n",
    "Founded\tNovember 12, 1993; 30 years ago\n",
    "Founders\t\n",
    "Art Davie\n",
    "Bob Meyrowitz\n",
    "Ryan Troutsdale\n",
    "Campbell McLaren\n",
    "David Isaacs\n",
    "John Milius\n",
    "Rorion Gracie[1][2]\n",
    "Headquarters\tLas Vegas, Nevada, United States\n",
    "Area served\tWorldwide\n",
    "Key people\t\n",
    "Ari Emanuel\n",
    "(CEO, TKO)\n",
    "Dana White\n",
    "(President & CEO)\n",
    "Products\t\n",
    "Home videoLive eventsMerchandisePublishingStreaming network serviceTV\n",
    "Services\tLicensing\n",
    "Revenue\tIncrease US$1.3 billion (2023)\n",
    "Operating income\tIncrease US$$142.9 million (2023)\n",
    "Net income\tIncrease US$387 million (2022)\n",
    "Total assets\tIncrease US$1.1 billion (2022)\n",
    "Total equity\tIncrease US$7 billion (2022)\n",
    "Number of employees\t~400 (2016)\n",
    "Parent\tTKO Group Holdings[3][a]\n",
    "Divisions\tUFC Apex\n",
    "UFC Fight Pass\n",
    "UFC Performance Institute\n",
    "Website\twww.ufc.com Edit this at Wikidata\n",
    "The Ultimate Fighting Championship (UFC) is an American mixed martial arts (MMA) promotion company based in Las Vegas, Nevada. It is owned and operated by TKO Group Holdings, a majority owned subsidiary of Endeavor Group Holdings.[5][6][7][8] It is the largest MMA promotion in the world as of 2023.[9] It produces events worldwide that showcase 11 weight divisions (eight men's and three women's) and abides by the Unified Rules of Mixed Martial Arts.[10] As of 2022, it had held over 600 events. Dana White has been its president since 2001 and CEO since 2023. Under White's stewardship, it has grown into a global multi-billion-dollar enterprise.[11]\n",
    "\n",
    "The UFC was founded by businessman Art Davie and Brazilian martial artist Rorion Gracie,[12] and the first event was held in 1993 at the McNichols Sports Arena in Denver, Colorado.[13] The purpose of the UFC's early competitions was to identify the most effective martial art in a contest with minimal rules and no weight classes between competitors of different fighting disciplines. In subsequent events, more rigorous rules were created and fighters began adopting effective techniques from more than one discipline, which indirectly helped create a separate style of fighting known as present-day mixed martial arts.\n",
    "\n",
    "The UFC was initially owned by the Semaphore Entertainment Group (SEG) until it had financial issues and it was sold to the brothers Frank and Lorenzo Fertitta in 2001, who formed the company Zuffa to operate the UFC, and placed Dana White as the president of the company.[11][14] In 2016, UFC's parent company, Zuffa, was sold to a group led by Endeavor, then known as William Morris Endeavor (WME–IMG), including Silver Lake Partners, Kohlberg Kravis Roberts and MSD Capital[15] for US$4.025 billion.[16] In 2021, Endeavor bought out Zuffa's other owners at a valuation of $1.7 billion.[8] The organization had 578 fighters contracted as of January 2023.[17]\n",
    "\n",
    "With a TV deal and expansion in Australia, Asia, Europe,[18][19][20] and new markets within the United States, the UFC has achieved greater mainstream media coverage. It earned US$609 million in 2015,[21] and its next domestic media rights agreement with ESPN was valued at $1.5 billion over a five-year term.[22]\n",
    "\n",
    "In April 2023, Endeavor Group Holdings announced that UFC would merge with the wrestling promotion WWE to form TKO Group Holdings, a new public company majority-owned by Endeavor, with Vince McMahon serving as an executive chairman of the new entity and White remaining as UFC president. The merger was completed on September 12, 2023.[23]\"\"\""
   ]
  },
  {
   "cell_type": "code",
   "execution_count": 16,
   "id": "8eebf25a",
   "metadata": {
    "height": 64
   },
   "outputs": [],
   "source": [
    "summary = summarizer(text,\n",
    "                     min_length=10,\n",
    "                     max_length=140)"
   ]
  },
  {
   "cell_type": "code",
   "execution_count": 17,
   "id": "51d4622e",
   "metadata": {
    "height": 30
   },
   "outputs": [
    {
     "data": {
      "text/plain": [
       "[{'summary_text': \"The Ultimate Fighting Championship (UFC) is an American mixed martial arts (MMA) promotion company based in Las Vegas, Nevada. It is owned and operated by TKO Group Holdings, a majority owned subsidiary of Endeavor Group Holdings. UFC was founded by businessman Art Davie and Brazilian martial artist Rorion Gracie in 1993. Dana White has been its president since 2001 and CEO since 2023. It produces events worldwide that showcase 11 weight divisions (eight men's and three women's) and abides by the Unified Rules of Mixed Martial Arts.\"}]"
      ]
     },
     "execution_count": 17,
     "metadata": {},
     "output_type": "execute_result"
    }
   ],
   "source": [
    "summary"
   ]
  }
 ],
 "metadata": {
  "kernelspec": {
   "display_name": "Python 3 (ipykernel)",
   "language": "python",
   "name": "python3"
  },
  "language_info": {
   "codemirror_mode": {
    "name": "ipython",
    "version": 3
   },
   "file_extension": ".py",
   "mimetype": "text/x-python",
   "name": "python",
   "nbconvert_exporter": "python",
   "pygments_lexer": "ipython3",
   "version": "3.9.18"
  }
 },
 "nbformat": 4,
 "nbformat_minor": 5
}
